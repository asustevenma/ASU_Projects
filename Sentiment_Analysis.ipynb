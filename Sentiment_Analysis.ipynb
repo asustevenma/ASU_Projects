{
 "cells": [
  {
   "cell_type": "code",
   "execution_count": 1,
   "metadata": {},
   "outputs": [
    {
     "name": "stdout",
     "output_type": "stream",
     "text": [
      "The nltk version is 3.2.5.\n"
     ]
    }
   ],
   "source": [
    "\n",
    "import pandas as pd\n",
    "#import numpy as np\n",
    "import string\n",
    "import re\n",
    "#import glob\n",
    "#import os\n",
    "#import operator\n",
    "import nltk\n",
    "print('The nltk version is {}.'.format(nltk.__version__))\n",
    "from nltk.corpus import stopwords\n",
    "from stemming.porter2 import stem"
   ]
  },
  {
   "cell_type": "code",
   "execution_count": 3,
   "metadata": {
    "collapsed": true
   },
   "outputs": [],
   "source": [
    "df = pd.read_csv('C:/Users/Steven Ma/Desktop/ASU - Business Analytics/Applied Project/Text Data/Training_Test.csv', sep=',')\n",
    "\n",
    "pos_tweets = []\n",
    "neg_tweets = []\n",
    "\n",
    "for index, row in df.iterrows():\n",
    "    if row['Sentiment'] == \"Pos\":\n",
    "        pos_tuple = tuple([row['SentimentText'], row['Sentiment']])\n",
    "        pos_tweets.append(pos_tuple)\n",
    "\n",
    "for index, row in df.iterrows():\n",
    "    if row['Sentiment'] == \"Neg\":\n",
    "        neg_tuple = tuple([row['SentimentText'], row['Sentiment']])\n",
    "        neg_tweets.append(neg_tuple)"
   ]
  },
  {
   "cell_type": "code",
   "execution_count": 4,
   "metadata": {
    "collapsed": true
   },
   "outputs": [],
   "source": [
    "# Text processing\n",
    "tweets = []\n",
    "regex = re.compile('[%s]' % re.escape(string.punctuation))\n",
    "sw = stopwords.words(\"english\")\n",
    "\n",
    "for (words, sentiment) in pos_tweets + neg_tweets:\n",
    "    words_removed = regex.sub('', words)\n",
    "    words_lowered = [e.lower() for e in words_removed.split()]\n",
    "    words_nonstopped = [w for w in words_lowered if w not in sw]\n",
    "    words_stemmed = [stem(txt) for txt in words_nonstopped]\n",
    "    tweets.append((words_stemmed, sentiment))\n",
    "#print(tweets)"
   ]
  },
  {
   "cell_type": "code",
   "execution_count": 5,
   "metadata": {
    "collapsed": true
   },
   "outputs": [],
   "source": [
    "# User defined function to extract list of Word Features\n",
    "def get_words_in_tweets(tweets):\n",
    "    all_words = []\n",
    "    for (words, sentiment) in tweets:\n",
    "      all_words.extend(words)\n",
    "    return all_words\n",
    "\n",
    "def get_word_features(wordlist):\n",
    "    WordList = nltk.FreqDist(wordlist)\n",
    "    print(\"=====Feature Expression=====\")\n",
    "    print(WordList)\n",
    "    print(\"====Top 10 Most Common=====\")\n",
    "    print(WordList.most_common(10))\n",
    "    print(\"============================\")\n",
    "    word_features = list(WordList.keys())\n",
    "    return word_features"
   ]
  },
  {
   "cell_type": "code",
   "execution_count": 6,
   "metadata": {},
   "outputs": [
    {
     "name": "stdout",
     "output_type": "stream",
     "text": [
      "=====Feature Expression=====\n",
      "<FreqDist with 543 samples and 769 outcomes>\n",
      "====Top 10 Most Common=====\n",
      "[('day', 10), ('good', 9), ('haha', 7), ('im', 7), ('miss', 7), ('go', 7), ('back', 7), ('home', 6), ('thank', 5), ('like', 5)]\n",
      "============================\n"
     ]
    }
   ],
   "source": [
    "# Extract list of Word Features\n",
    "word_features = get_word_features(get_words_in_tweets(tweets))\n",
    "#print(\"Word Features :\", word_features)"
   ]
  },
  {
   "cell_type": "code",
   "execution_count": 7,
   "metadata": {},
   "outputs": [
    {
     "name": "stdout",
     "output_type": "stream",
     "text": [
      "Extract_Features : {'redinkdiari': True, 'realli': True, 'finger': True, 'point': True, 'big': True, 'chanc': True, 'one': True, 'public': True, 'well': True, 'known': True, 'dont': True, 'need': True, 'insid': True, 'sourc': True, 'clatsyrc': True, 'thank': True, 'post': True, 'alway': True, 'like': True, 'feedback': True, 'realiz': True, 'sound': True, 'lot': True, 'kati': True, 'perri': True, 'haha': True, '2niteboy': True, 'idea': True, 'get': True, 'result': True, 'week': True, 'whaa': True, 'intens': True, 'type247': True, 'true': True, 'boss': True, 'let': True, 'wear': True, 'write': True, 'pant': True, 'sheep': True, 'slipper': True, 'lovelylondon': True, 'pretti': True, 'good': True, 'littleheadcas': True, 'use': True, 'xcritic': True, 'hope': True, 'steer': True, 'right': True, 'direct': True, 'watch': True, 'citi': True, 'god': True, 'yesterday': True, 'still': True, 'noodl': True, 'cup': True, 'church': True, 'look': True, 'men': True, 'choir': True, 'quotso': True, 'glad': True, 'im': True, 'herequot': True, 'mom': True, 'say': True, 'karma': True, 'reach': True, '21': True, 'soon': True, 'yay': True, 'tu': True, 'pun': True, 'excit': True, 'eh': True, 'httpplurkcomp11b5kd': True, 'daniscot': True, 'mmmm': True, 'know': True, 'xomcflyandjb': True, 'girl': True, 'saw': True, 'aussiemcflyfan': True, 'preview': True, 'amp': True, 'love': True, 'chiaw': True, 'mine': True, '6769': True, 'ok': True, 'clean': True, 'stuck': True, 'came': True, 'meet': True, 'zurianiyusof': True, 'wowww': True, 'take': True, 'pic': True, 'wed': True, 'cool': True, 'wow': True, 'wrap': True, 'around': True, 'miss': True, 'jadenn': True, 'heard': True, 'might': True, 'join': True, 'go': True, 'mccordannalynn': True, 'show': True, 'shana': True, 'horribl': True, 'everyon': True, 'set': True, 'cos': True, 'read': True, 'internet': True, 'ly': True, 'xx': True, 'hill': True, 'tonight': True, 'yaaayi': True, 'mtv': True, 'award': True, 'mtvbuzzworthi': True, 'favorit': True, 'fob': True, 'song': True, 'life': True, 'parti': True, 'northlandfox': True, 'followfriday': True, 'inform': True, 'provid': True, 'emerg': True, 'manag': True, 'httptwitpiccom3pgiy': True, 'summer': True, 'butt': True, 'corona': True, 'home': True, 'sweet': True, 'back': True, 'bed': True, 'la': True, 'klconov': True, 'late': True, 'woke': True, 'sleep': True, 'twitter': True, 'awesom': True, 'took': True, 'shower': True, 'bibl': True, 'sit': True, 'tri': True, 'find': True, 'friend': True, 'tho': True, 'alexpham4': True, 'tomorrow': True, 'eat': True, 'heavi': True, 'welcom': True, 'run': True, 'kensington': True, 'garden': True, 'gorgeous': True, 'palac': True, 'fountain': True, 'pond': True, 'flower': True, 'peter': True, 'pan': True, 'queen': True, 'victoria': True, 'statu': True, 'amaz': True, 'fab': True, 'night': True, 'last': True, 'dark': True, 'knight': True, 'v': True, 'twilight': True, 'lt3': True, 'b4': True, 'eeeee': True, 'cam': True, 'sexyy': True, 'rob': True, 'alright': True, 'kellan': True, 'emmett': True, 'vipqual': True, 'yes': True, 'inde': True, 'much': True, 'got': True, 'car': True, 'loos': True, 'monopoli': True, 'see': True, 'mommi': True, 'cccscholarship': True, 'support': True, 'musicinmysoul': True, 'awww': True, 'sorri': True, 'couldnt': True, 'help': True, 'luck': True, 'kerri': True, 'hi': True, 'come': True, 'visit': True, 'fun': True, 'youkiss': True, 'kiss': True, 'cruis': True, 'readi': True, 'rest': True, 'day': True, 'schnittman': True, 'whoa': True, 'prop': True, 'mr': True, 'hollyn': True, 'compliment': True, 'think': True, 'final': True, 'quotcaught': True, 'upquot': True, 'internetrss': True, 'feedstweet': True, 'vacat': True, 'outlook': True, 'inbox': True, 'eemun': True, 'jason': True, 'lean': True, 'eight': True, 'stop': True, 'wake': True, 'fuckin': True, 'five': True, 'maj1210': True, 'that': True, 'way': True, 'roll': True, 'loveh': True, 'relationship': True, 'desert': True, 'solitud': True, 'time': True, 'shrimponbarbi': True, 'lmfao': True, 'dinner': True, '12': True, 'year': True, 'old': True, 'drunbkkkk': True, 'babyyi': True, 'likeon': True, 'seious': True, 'nightr': True, 'twittlw': True, 'tweet': True, 'bhaugh': True, 'hrm': True, 'happi': True, 'quot10000': True, 'oldquot': True, 'timothyt': True, 'ha': True, 'kid': True, 'surpris': True, 'roam': True, 'natur': True, 'habitat': True, 'wait': True, 'start': True, 'mother': True, 'momma': True, 'end': True, 'cant': True, 'wrong': True, 'perfum': True, 'shop': True, 'impendingdoom': True, 'south': True, 'florida': True, 'play': True, 'us': True, 'lol': True, 'gumstick': True, 'front': True, 'half': True, 'land': True, 'promis': True, 'ill': True, 'pay': True, 'strike': True, 'rich': True, 'mabel1922': True, 'nnorafiza': True, 'state': True, 'dm': True, 'wish': True, 'someth': True, 'els': True, 'school': True, 'class': True, 'sortof': True, 'sad': True, 'carebear': True, 'doesnt': True, 'left': True, 'b50': True, 'nevermind': True, 'sms': True, 'costi': True, 'simpli': True, 'abl': True, '2': True, 'regist': True, 'twitteri': True, 'thrice': True, 'mobil': True, 'work': True, 'dkeyjon': True, 'tall': True, 'guy': True, 'didnt': True, 'stand': True, 'move': True, 'violinistfreak': True, 'lost': True, 'pleas': True, 'pub': True, 'close': True, 'til': True, 'notic': True, 'anoth': True, '4': True, 'lunch': True, 'missfliss': True, 'wouldnt': True, 'even': True, 'talk': True, 'game': True, 'holli': True, 'concuss': True, 'swell': True, 'zatannna': True, 'oooh': True, 'check': True, 'japanes': True, 'mod': True, 'scooter': True, 'fool': True, 'bother': True, 'everyth': True, 'though': True, 'correct': True, 'order': True, 'persianhacksthey': True, 'kill': True, '6': True, 'peopl': True, 'far': True, '670amkirn': True, 'iranelect': True, 'persiankiwi': True, 'cannot': True, 'tont': True, 'malori': True, 'u': True, 'bowl': True, 'drink': True, 'sickcough': True, 'cold': True, 'whyyyyyyhad': True, 'mani': True, 'plan': True, 'sim': True, '3': True, 'anyon': True, 'bow': True, 'head': True, 'redw': True, 'hockey': True, '2nite': True, 'deserv': True, 'linda': True, 'gonna': True, 'wet': True, 'dirti': True, 'till': True, 'graduat': True, 'colleg': True, '8th': True, 'sat': True, 'row': True, 'bubbl': True, 'second': True, 'marley': True, 'alon': True, 'smartest': True, 'boyfriend': True, 'leav': True, 'arctic': True, 'month': True, 'oohok': True, 'te': True, 'locat': True, 'thingi': True, 'abt': True, '1': True, 'block': True, 'anywayyy': True, 'major': True, 'joke': True, 'crave': True, 'singaporean': True, 'hawker': True, 'food': True, 'httpmylocme2m2a': True, 'gue': True, 'aint': True, 'happen': True, 'ili': True, 'httpplurkcompys2m2': True, 'bfieldss': True, 'want': True, 'new': True, 'straighten': True, 'shirt': True, 'dvds': True, 'trunk': True, 'feel': True, 'child': True, 'licia': True, 'jojo': True, 'krystlew': True, 'listen': True, 'teagen': True, 'sara': True, 'remind': True, 'teagan': True, 'california': True, 'errand': True, 'today': True, 'quotth': True, 'hillsquot': True, 'lauren': True, 'parent': True, 'omg': True, 'feed': True, 'everyday': True, 'httptwitpiccom4hch4': True, 'ahh': True, 'guitar': True, 'hero': True, 'suck': True, 'seen': True, 'brother': True, 'cat': True, 'shes': True, 'kfc': True, 'philippin': True, 'differ': True, 'pinocchio': True, 'bk': True, 'hmmm': True, 'gettin': True, 'shoe': True, '2morrow': True, 'burberri': True, 'loafer': True, 'wtf': True, 'bore': True, 'lone': True, 'playin': True, 'itouch': True, 'scottmallin': True, 'scottttttttt': True, 'cn': True, 'corey': True, 'gone': True, 'ball': True, 'capit': True, 'xd': True, 'johnpaulallen': True, '8': True, 'hour': True, 'preston': True, 'middl': True, 'oceania': True, 'charg': True, 'client': True, 'bank': True, 'fee': True, 'top': True, 'payment': True, 'wassup': True, 'upset': True, 'pack': True, 'glastonburi': True, 'turn': True, 'cloth': True, 'rain': True, 'sun': True, 'lay': True, 'ate': True, 'zaxbi': True, 'yum': True, 'follow': True, 'grasset': True, 'envi': True, 'cambril': True, 'bad': True, 'storm': True, 'ago': True, 'rememb': True, 'damarisen': True, 'tooi': True, 'hit': True, 'skunk': True, 'davidmacho': True, 'somehow': True, 'drop': True, 'list': True, 'ad': True, 'joeysik': True, 'shitti': True, 'someon': True, 'bring': True, 'hungri': True}\n"
     ]
    }
   ],
   "source": [
    "# Feature Extractor\n",
    "def extract_features(document):\n",
    "    document_words = set(document)\n",
    "    features = {}\n",
    "    for word in word_features:\n",
    "        features['%s' % word] = (word in document_words)\n",
    "    return features\n",
    "\n",
    "Extract_Features = extract_features(word_features)\n",
    "print(\"Extract_Features :\", Extract_Features)"
   ]
  },
  {
   "cell_type": "code",
   "execution_count": 8,
   "metadata": {},
   "outputs": [
    {
     "name": "stdout",
     "output_type": "stream",
     "text": [
      "Training Set : [({'redinkdiari': True, 'realli': True, 'finger': True, 'point': True, 'big': True, 'chanc': True, 'one': True, 'public': True, 'well': True, 'known': True, 'dont': True, 'need': True, 'insid': True, 'sourc': True, 'clatsyrc': False, 'thank': False, 'post': False, 'alway': False, 'like': False, 'feedback': False, 'realiz': False, 'sound': False, 'lot': False, 'kati': False, 'perri': False, 'haha': False, '2niteboy': False, 'idea': False, 'get': False, 'result': False, 'week': False, 'whaa': False, 'intens': False, 'type247': False, 'true': False, 'boss': False, 'let': False, 'wear': False, 'write': False, 'pant': False, 'sheep': False, 'slipper': False, 'lovelylondon': False, 'pretti': False, 'good': False, 'littleheadcas': False, 'use': False, 'xcritic': False, 'hope': False, 'steer': False, 'right': False, 'direct': False, 'watch': False, 'citi': False, 'god': False, 'yesterday': False, 'still': False, 'noodl': False, 'cup': False, 'church': False, 'look': False, 'men': False, 'choir': False, 'quotso': False, 'glad': False, 'im': False, 'herequot': False, 'mom': False, 'say': False, 'karma': False, 'reach': False, '21': False, 'soon': False, 'yay': False, 'tu': False, 'pun': False, 'excit': False, 'eh': False, 'httpplurkcomp11b5kd': False, 'daniscot': False, 'mmmm': False, 'know': False, 'xomcflyandjb': False, 'girl': False, 'saw': False, 'aussiemcflyfan': False, 'preview': False, 'amp': False, 'love': False, 'chiaw': False, 'mine': False, '6769': False, 'ok': False, 'clean': False, 'stuck': False, 'came': False, 'meet': False, 'zurianiyusof': False, 'wowww': False, 'take': False, 'pic': False, 'wed': False, 'cool': False, 'wow': False, 'wrap': False, 'around': False, 'miss': False, 'jadenn': False, 'heard': False, 'might': False, 'join': False, 'go': False, 'mccordannalynn': False, 'show': False, 'shana': False, 'horribl': False, 'everyon': False, 'set': False, 'cos': False, 'read': False, 'internet': False, 'ly': False, 'xx': False, 'hill': False, 'tonight': False, 'yaaayi': False, 'mtv': False, 'award': False, 'mtvbuzzworthi': False, 'favorit': False, 'fob': False, 'song': False, 'life': False, 'parti': False, 'northlandfox': False, 'followfriday': False, 'inform': False, 'provid': False, 'emerg': False, 'manag': False, 'httptwitpiccom3pgiy': False, 'summer': False, 'butt': False, 'corona': False, 'home': False, 'sweet': False, 'back': False, 'bed': False, 'la': False, 'klconov': False, 'late': False, 'woke': False, 'sleep': False, 'twitter': False, 'awesom': False, 'took': False, 'shower': False, 'bibl': False, 'sit': False, 'tri': False, 'find': False, 'friend': False, 'tho': False, 'alexpham4': False, 'tomorrow': False, 'eat': False, 'heavi': False, 'welcom': False, 'run': False, 'kensington': False, 'garden': False, 'gorgeous': False, 'palac': False, 'fountain': False, 'pond': False, 'flower': False, 'peter': False, 'pan': False, 'queen': False, 'victoria': False, 'statu': False, 'amaz': False, 'fab': False, 'night': False, 'last': False, 'dark': False, 'knight': False, 'v': False, 'twilight': False, 'lt3': False, 'b4': False, 'eeeee': False, 'cam': False, 'sexyy': False, 'rob': False, 'alright': False, 'kellan': False, 'emmett': False, 'vipqual': False, 'yes': False, 'inde': False, 'much': False, 'got': False, 'car': False, 'loos': False, 'monopoli': False, 'see': False, 'mommi': False, 'cccscholarship': False, 'support': False, 'musicinmysoul': False, 'awww': False, 'sorri': False, 'couldnt': False, 'help': False, 'luck': False, 'kerri': False, 'hi': False, 'come': False, 'visit': False, 'fun': False, 'youkiss': False, 'kiss': False, 'cruis': False, 'readi': False, 'rest': False, 'day': False, 'schnittman': False, 'whoa': False, 'prop': False, 'mr': False, 'hollyn': False, 'compliment': False, 'think': False, 'final': False, 'quotcaught': False, 'upquot': False, 'internetrss': False, 'feedstweet': False, 'vacat': False, 'outlook': False, 'inbox': False, 'eemun': False, 'jason': False, 'lean': False, 'eight': False, 'stop': False, 'wake': False, 'fuckin': False, 'five': False, 'maj1210': False, 'that': False, 'way': False, 'roll': False, 'loveh': False, 'relationship': False, 'desert': False, 'solitud': False, 'time': False, 'shrimponbarbi': False, 'lmfao': False, 'dinner': False, '12': False, 'year': False, 'old': False, 'drunbkkkk': False, 'babyyi': False, 'likeon': False, 'seious': False, 'nightr': False, 'twittlw': False, 'tweet': False, 'bhaugh': False, 'hrm': False, 'happi': False, 'quot10000': False, 'oldquot': False, 'timothyt': False, 'ha': False, 'kid': False, 'surpris': False, 'roam': False, 'natur': False, 'habitat': False, 'wait': False, 'start': False, 'mother': False, 'momma': False, 'end': False, 'cant': False, 'wrong': False, 'perfum': False, 'shop': False, 'impendingdoom': False, 'south': False, 'florida': False, 'play': False, 'us': False, 'lol': False, 'gumstick': False, 'front': False, 'half': False, 'land': False, 'promis': False, 'ill': False, 'pay': False, 'strike': False, 'rich': False, 'mabel1922': False, 'nnorafiza': False, 'state': False, 'dm': False, 'wish': False, 'someth': False, 'els': False, 'school': False, 'class': False, 'sortof': False, 'sad': False, 'carebear': False, 'doesnt': False, 'left': False, 'b50': False, 'nevermind': False, 'sms': False, 'costi': False, 'simpli': False, 'abl': False, '2': False, 'regist': False, 'twitteri': False, 'thrice': False, 'mobil': False, 'work': False, 'dkeyjon': False, 'tall': False, 'guy': False, 'didnt': False, 'stand': False, 'move': False, 'violinistfreak': False, 'lost': False, 'pleas': False, 'pub': False, 'close': False, 'til': False, 'notic': False, 'anoth': False, '4': False, 'lunch': False, 'missfliss': False, 'wouldnt': False, 'even': False, 'talk': False, 'game': False, 'holli': False, 'concuss': False, 'swell': False, 'zatannna': False, 'oooh': False, 'check': False, 'japanes': False, 'mod': False, 'scooter': False, 'fool': False, 'bother': False, 'everyth': False, 'though': False, 'correct': False, 'order': False, 'persianhacksthey': False, 'kill': False, '6': False, 'peopl': False, 'far': False, '670amkirn': False, 'iranelect': False, 'persiankiwi': False, 'cannot': False, 'tont': False, 'malori': False, 'u': False, 'bowl': False, 'drink': False, 'sickcough': False, 'cold': False, 'whyyyyyyhad': False, 'mani': False, 'plan': False, 'sim': False, '3': False, 'anyon': False, 'bow': False, 'head': False, 'redw': False, 'hockey': False, '2nite': False, 'deserv': False, 'linda': False, 'gonna': False, 'wet': False, 'dirti': False, 'till': False, 'graduat': False, 'colleg': False, '8th': False, 'sat': False, 'row': False, 'bubbl': False, 'second': False, 'marley': False, 'alon': False, 'smartest': False, 'boyfriend': False, 'leav': False, 'arctic': False, 'month': False, 'oohok': False, 'te': False, 'locat': False, 'thingi': False, 'abt': False, '1': False, 'block': False, 'anywayyy': False, 'major': False, 'joke': False, 'crave': False, 'singaporean': False, 'hawker': False, 'food': False, 'httpmylocme2m2a': False, 'gue': False, 'aint': False, 'happen': False, 'ili': False, 'httpplurkcompys2m2': False, 'bfieldss': False, 'want': False, 'new': False, 'straighten': False, 'shirt': False, 'dvds': False, 'trunk': False, 'feel': False, 'child': False, 'licia': False, 'jojo': False, 'krystlew': False, 'listen': False, 'teagen': False, 'sara': False, 'remind': False, 'teagan': False, 'california': False, 'errand': False, 'today': False, 'quotth': False, 'hillsquot': False, 'lauren': False, 'parent': False, 'omg': False, 'feed': False, 'everyday': False, 'httptwitpiccom4hch4': False, 'ahh': False, 'guitar': False, 'hero': False, 'suck': False, 'seen': False, 'brother': False, 'cat': False, 'shes': False, 'kfc': False, 'philippin': False, 'differ': False, 'pinocchio': False, 'bk': False, 'hmmm': False, 'gettin': False, 'shoe': False, '2morrow': False, 'burberri': False, 'loafer': False, 'wtf': False, 'bore': False, 'lone': False, 'playin': False, 'itouch': False, 'scottmallin': False, 'scottttttttt': False, 'cn': False, 'corey': False, 'gone': False, 'ball': False, 'capit': False, 'xd': False, 'johnpaulallen': False, '8': False, 'hour': False, 'preston': False, 'middl': False, 'oceania': False, 'charg': False, 'client': False, 'bank': False, 'fee': False, 'top': False, 'payment': False, 'wassup': False, 'upset': False, 'pack': False, 'glastonburi': False, 'turn': False, 'cloth': False, 'rain': False, 'sun': False, 'lay': False, 'ate': False, 'zaxbi': False, 'yum': False, 'follow': False, 'grasset': False, 'envi': False, 'cambril': False, 'bad': False, 'storm': False, 'ago': False, 'rememb': False, 'damarisen': False, 'tooi': False, 'hit': False, 'skunk': False, 'davidmacho': False, 'somehow': False, 'drop': False, 'list': False, 'ad': False, 'joeysik': False, 'shitti': False, 'someon': False, 'bring': False, 'hungri': False}, 'Pos'), ({'redinkdiari': False, 'realli': False, 'finger': False, 'point': False, 'big': False, 'chanc': False, 'one': False, 'public': False, 'well': False, 'known': False, 'dont': False, 'need': False, 'insid': False, 'sourc': False, 'clatsyrc': True, 'thank': True, 'post': True, 'alway': True, 'like': True, 'feedback': True, 'realiz': False, 'sound': False, 'lot': False, 'kati': False, 'perri': False, 'haha': False, '2niteboy': False, 'idea': False, 'get': False, 'result': False, 'week': False, 'whaa': False, 'intens': False, 'type247': False, 'true': False, 'boss': False, 'let': False, 'wear': False, 'write': False, 'pant': False, 'sheep': False, 'slipper': False, 'lovelylondon': False, 'pretti': False, 'good': False, 'littleheadcas': False, 'use': False, 'xcritic': False, 'hope': False, 'steer': False, 'right': False, 'direct': False, 'watch': False, 'citi': False, 'god': False, 'yesterday': False, 'still': False, 'noodl': False, 'cup': False, 'church': False, 'look': False, 'men': False, 'choir': False, 'quotso': False, 'glad': False, 'im': False, 'herequot': False, 'mom': False, 'say': False, 'karma': False, 'reach': False, '21': False, 'soon': False, 'yay': False, 'tu': False, 'pun': False, 'excit': False, 'eh': False, 'httpplurkcomp11b5kd': False, 'daniscot': False, 'mmmm': False, 'know': False, 'xomcflyandjb': False, 'girl': False, 'saw': False, 'aussiemcflyfan': False, 'preview': False, 'amp': False, 'love': False, 'chiaw': False, 'mine': False, '6769': False, 'ok': False, 'clean': False, 'stuck': False, 'came': False, 'meet': False, 'zurianiyusof': False, 'wowww': False, 'take': False, 'pic': False, 'wed': False, 'cool': False, 'wow': False, 'wrap': False, 'around': False, 'miss': False, 'jadenn': False, 'heard': False, 'might': False, 'join': False, 'go': False, 'mccordannalynn': False, 'show': False, 'shana': False, 'horribl': False, 'everyon': False, 'set': False, 'cos': False, 'read': False, 'internet': False, 'ly': False, 'xx': False, 'hill': False, 'tonight': False, 'yaaayi': False, 'mtv': False, 'award': False, 'mtvbuzzworthi': False, 'favorit': False, 'fob': False, 'song': False, 'life': False, 'parti': False, 'northlandfox': False, 'followfriday': False, 'inform': False, 'provid': False, 'emerg': False, 'manag': False, 'httptwitpiccom3pgiy': False, 'summer': False, 'butt': False, 'corona': False, 'home': False, 'sweet': False, 'back': False, 'bed': False, 'la': False, 'klconov': False, 'late': False, 'woke': False, 'sleep': False, 'twitter': False, 'awesom': False, 'took': False, 'shower': False, 'bibl': False, 'sit': False, 'tri': False, 'find': False, 'friend': False, 'tho': False, 'alexpham4': False, 'tomorrow': False, 'eat': False, 'heavi': False, 'welcom': False, 'run': False, 'kensington': False, 'garden': False, 'gorgeous': False, 'palac': False, 'fountain': False, 'pond': False, 'flower': False, 'peter': False, 'pan': False, 'queen': False, 'victoria': False, 'statu': False, 'amaz': False, 'fab': False, 'night': False, 'last': False, 'dark': False, 'knight': False, 'v': False, 'twilight': False, 'lt3': False, 'b4': False, 'eeeee': False, 'cam': False, 'sexyy': False, 'rob': False, 'alright': False, 'kellan': False, 'emmett': False, 'vipqual': False, 'yes': False, 'inde': False, 'much': False, 'got': False, 'car': False, 'loos': False, 'monopoli': False, 'see': False, 'mommi': False, 'cccscholarship': False, 'support': False, 'musicinmysoul': False, 'awww': False, 'sorri': False, 'couldnt': False, 'help': False, 'luck': False, 'kerri': False, 'hi': False, 'come': False, 'visit': False, 'fun': False, 'youkiss': False, 'kiss': False, 'cruis': False, 'readi': False, 'rest': False, 'day': False, 'schnittman': False, 'whoa': False, 'prop': False, 'mr': False, 'hollyn': False, 'compliment': False, 'think': False, 'final': False, 'quotcaught': False, 'upquot': False, 'internetrss': False, 'feedstweet': False, 'vacat': False, 'outlook': False, 'inbox': False, 'eemun': False, 'jason': False, 'lean': False, 'eight': False, 'stop': False, 'wake': False, 'fuckin': False, 'five': False, 'maj1210': False, 'that': False, 'way': False, 'roll': False, 'loveh': False, 'relationship': False, 'desert': False, 'solitud': False, 'time': False, 'shrimponbarbi': False, 'lmfao': False, 'dinner': False, '12': False, 'year': False, 'old': False, 'drunbkkkk': False, 'babyyi': False, 'likeon': False, 'seious': False, 'nightr': False, 'twittlw': False, 'tweet': False, 'bhaugh': False, 'hrm': False, 'happi': False, 'quot10000': False, 'oldquot': False, 'timothyt': False, 'ha': False, 'kid': False, 'surpris': False, 'roam': False, 'natur': False, 'habitat': False, 'wait': False, 'start': False, 'mother': False, 'momma': False, 'end': False, 'cant': False, 'wrong': False, 'perfum': False, 'shop': False, 'impendingdoom': False, 'south': False, 'florida': False, 'play': False, 'us': False, 'lol': False, 'gumstick': False, 'front': False, 'half': False, 'land': False, 'promis': False, 'ill': False, 'pay': False, 'strike': False, 'rich': False, 'mabel1922': False, 'nnorafiza': False, 'state': False, 'dm': False, 'wish': False, 'someth': False, 'els': False, 'school': False, 'class': False, 'sortof': False, 'sad': False, 'carebear': False, 'doesnt': False, 'left': False, 'b50': False, 'nevermind': False, 'sms': False, 'costi': False, 'simpli': False, 'abl': False, '2': False, 'regist': False, 'twitteri': False, 'thrice': False, 'mobil': False, 'work': False, 'dkeyjon': False, 'tall': False, 'guy': False, 'didnt': False, 'stand': False, 'move': False, 'violinistfreak': False, 'lost': False, 'pleas': False, 'pub': False, 'close': False, 'til': False, 'notic': False, 'anoth': False, '4': False, 'lunch': False, 'missfliss': False, 'wouldnt': False, 'even': False, 'talk': False, 'game': False, 'holli': False, 'concuss': False, 'swell': False, 'zatannna': False, 'oooh': False, 'check': False, 'japanes': False, 'mod': False, 'scooter': False, 'fool': False, 'bother': False, 'everyth': False, 'though': False, 'correct': False, 'order': False, 'persianhacksthey': False, 'kill': False, '6': False, 'peopl': False, 'far': False, '670amkirn': False, 'iranelect': False, 'persiankiwi': False, 'cannot': False, 'tont': False, 'malori': False, 'u': False, 'bowl': False, 'drink': False, 'sickcough': False, 'cold': False, 'whyyyyyyhad': False, 'mani': False, 'plan': False, 'sim': False, '3': False, 'anyon': False, 'bow': False, 'head': False, 'redw': False, 'hockey': False, '2nite': False, 'deserv': False, 'linda': False, 'gonna': False, 'wet': False, 'dirti': False, 'till': False, 'graduat': False, 'colleg': False, '8th': False, 'sat': False, 'row': False, 'bubbl': False, 'second': False, 'marley': False, 'alon': False, 'smartest': False, 'boyfriend': False, 'leav': False, 'arctic': False, 'month': False, 'oohok': False, 'te': False, 'locat': False, 'thingi': False, 'abt': False, '1': False, 'block': False, 'anywayyy': False, 'major': False, 'joke': False, 'crave': False, 'singaporean': False, 'hawker': False, 'food': False, 'httpmylocme2m2a': False, 'gue': False, 'aint': False, 'happen': False, 'ili': False, 'httpplurkcompys2m2': False, 'bfieldss': False, 'want': False, 'new': False, 'straighten': False, 'shirt': False, 'dvds': False, 'trunk': False, 'feel': False, 'child': False, 'licia': False, 'jojo': False, 'krystlew': False, 'listen': False, 'teagen': False, 'sara': False, 'remind': False, 'teagan': False, 'california': False, 'errand': False, 'today': False, 'quotth': False, 'hillsquot': False, 'lauren': False, 'parent': False, 'omg': False, 'feed': False, 'everyday': False, 'httptwitpiccom4hch4': False, 'ahh': False, 'guitar': False, 'hero': False, 'suck': False, 'seen': False, 'brother': False, 'cat': False, 'shes': False, 'kfc': False, 'philippin': False, 'differ': False, 'pinocchio': False, 'bk': False, 'hmmm': False, 'gettin': False, 'shoe': False, '2morrow': False, 'burberri': False, 'loafer': False, 'wtf': False, 'bore': False, 'lone': False, 'playin': False, 'itouch': False, 'scottmallin': False, 'scottttttttt': False, 'cn': False, 'corey': False, 'gone': False, 'ball': False, 'capit': False, 'xd': False, 'johnpaulallen': False, '8': False, 'hour': False, 'preston': False, 'middl': False, 'oceania': False, 'charg': False, 'client': False, 'bank': False, 'fee': False, 'top': False, 'payment': False, 'wassup': False, 'upset': False, 'pack': False, 'glastonburi': False, 'turn': False, 'cloth': False, 'rain': False, 'sun': False, 'lay': False, 'ate': False, 'zaxbi': False, 'yum': False, 'follow': False, 'grasset': False, 'envi': False, 'cambril': False, 'bad': False, 'storm': False, 'ago': False, 'rememb': False, 'damarisen': False, 'tooi': False, 'hit': False, 'skunk': False, 'davidmacho': False, 'somehow': False, 'drop': False, 'list': False, 'ad': False, 'joeysik': False, 'shitti': False, 'someon': False, 'bring': False, 'hungri': False}, 'Pos'), ...]\n"
     ]
    }
   ],
   "source": [
    "# Training Set\n",
    "\n",
    "training_set = nltk.classify.util.apply_features(extract_features, tweets)\n",
    "print(\"Training Set :\", training_set)"
   ]
  },
  {
   "cell_type": "code",
   "execution_count": 9,
   "metadata": {
    "collapsed": true
   },
   "outputs": [],
   "source": [
    "# Training Classifier\n",
    "\n",
    "classifier = nltk.NaiveBayesClassifier.train(training_set)"
   ]
  }
 ],
 "metadata": {
  "kernelspec": {
   "display_name": "Python 3",
   "language": "python",
   "name": "python3"
  },
  "language_info": {
   "codemirror_mode": {
    "name": "ipython",
    "version": 3
   },
   "file_extension": ".py",
   "mimetype": "text/x-python",
   "name": "python",
   "nbconvert_exporter": "python",
   "pygments_lexer": "ipython3",
   "version": "3.6.3"
  }
 },
 "nbformat": 4,
 "nbformat_minor": 2
}
